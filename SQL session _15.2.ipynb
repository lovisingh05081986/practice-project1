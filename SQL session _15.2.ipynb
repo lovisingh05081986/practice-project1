{
 "cells": [
  {
   "cell_type": "code",
   "execution_count": 1,
   "id": "e6eebfa2",
   "metadata": {},
   "outputs": [],
   "source": [
    "import sqlite3"
   ]
  },
  {
   "cell_type": "code",
   "execution_count": 2,
   "id": "711c2f42",
   "metadata": {},
   "outputs": [],
   "source": [
    "db=sqlite3.connect(\"E:/MySQLite_Database/student_course_database.db\")"
   ]
  },
  {
   "cell_type": "code",
   "execution_count": 3,
   "id": "0760385a",
   "metadata": {},
   "outputs": [],
   "source": [
    "cur=db.cursor()"
   ]
  },
  {
   "cell_type": "raw",
   "id": "666c63b2",
   "metadata": {},
   "source": [
    "constraints------\n",
    "unique--enter only unique value, no duplicate values\n",
    "not null--no blank values can be inserted in table"
   ]
  },
  {
   "cell_type": "code",
   "execution_count": 4,
   "id": "2dbf3164",
   "metadata": {},
   "outputs": [
    {
     "data": {
      "text/plain": [
       "<sqlite3.Cursor at 0x2986a2aab20>"
      ]
     },
     "execution_count": 4,
     "metadata": {},
     "output_type": "execute_result"
    }
   ],
   "source": [
    "cur.execute(\"create table course(courseid int primary key, coursename text, duration int)\")"
   ]
  },
  {
   "cell_type": "code",
   "execution_count": 5,
   "id": "c574444b",
   "metadata": {},
   "outputs": [
    {
     "data": {
      "text/plain": [
       "<sqlite3.Cursor at 0x2986a2aab20>"
      ]
     },
     "execution_count": 5,
     "metadata": {},
     "output_type": "execute_result"
    }
   ],
   "source": [
    "cur.execute(\"create table student(roll_no int primary key, studentname text, age int, courseid int, foreign key(courseid) references course(courseid))\")"
   ]
  },
  {
   "cell_type": "code",
   "execution_count": 6,
   "id": "82d7de6f",
   "metadata": {},
   "outputs": [
    {
     "name": "stdout",
     "output_type": "stream",
     "text": [
      "3 record(s) inserted\n"
     ]
    }
   ],
   "source": [
    "cur.execute(\"insert into course values(78, 'Data science', 12),(56, 'Python course' ,4),(101, 'Database', 7)\")\n",
    "\n",
    "print(cur.rowcount,\"record(s) inserted\")\n",
    "\n",
    "db.commit()\n"
   ]
  },
  {
   "cell_type": "code",
   "execution_count": 7,
   "id": "7cb5d47f",
   "metadata": {},
   "outputs": [
    {
     "name": "stdout",
     "output_type": "stream",
     "text": [
      "4 record(s) inserted\n"
     ]
    }
   ],
   "source": [
    "cur.execute(\"insert into student values(1, 'Jack' ,22,78),(2, 'John', 21,56),(3, 'Rudolf', 18,78),(4, 'Jim', 21,56)\")\n",
    "\n",
    "print(cur.rowcount,\"record(s) inserted\")\n",
    "\n",
    "db.commit()"
   ]
  },
  {
   "cell_type": "code",
   "execution_count": 8,
   "id": "bc049bd9",
   "metadata": {},
   "outputs": [
    {
     "data": {
      "text/plain": [
       "[(78, 'Data science', 12), (56, 'Python course', 4), (101, 'Database', 7)]"
      ]
     },
     "execution_count": 8,
     "metadata": {},
     "output_type": "execute_result"
    }
   ],
   "source": [
    "results = cur.execute(\"select * from course\")\n",
    "\n",
    "results.fetchall()"
   ]
  },
  {
   "cell_type": "code",
   "execution_count": 9,
   "id": "13fb0d3a",
   "metadata": {},
   "outputs": [
    {
     "data": {
      "text/plain": [
       "[(1, 'Jack', 22, 78),\n",
       " (2, 'John', 21, 56),\n",
       " (3, 'Rudolf', 18, 78),\n",
       " (4, 'Jim', 21, 56)]"
      ]
     },
     "execution_count": 9,
     "metadata": {},
     "output_type": "execute_result"
    }
   ],
   "source": [
    "results = cur.execute(\"select * from student\")\n",
    "\n",
    "results.fetchall()"
   ]
  },
  {
   "cell_type": "code",
   "execution_count": 10,
   "id": "39cb3eb7",
   "metadata": {},
   "outputs": [
    {
     "name": "stdout",
     "output_type": "stream",
     "text": [
      "(78,)\n"
     ]
    }
   ],
   "source": [
    "results = cur.execute('select courseid from course where coursename= \"Data science\"')\n",
    "\n",
    "for i in results:\n",
    "    print(i)"
   ]
  },
  {
   "cell_type": "markdown",
   "id": "67c6c317",
   "metadata": {},
   "source": [
    "# Subquery"
   ]
  },
  {
   "cell_type": "code",
   "execution_count": 11,
   "id": "c1f5805b",
   "metadata": {},
   "outputs": [
    {
     "data": {
      "text/plain": [
       "[(1, 'Jack', 22, 78), (3, 'Rudolf', 18, 78)]"
      ]
     },
     "execution_count": 11,
     "metadata": {},
     "output_type": "execute_result"
    }
   ],
   "source": [
    "results = cur.execute('select * from student where courseid=(select courseid from course where coursename=\"Data science\")')\n",
    "\n",
    "results.fetchall()"
   ]
  },
  {
   "cell_type": "code",
   "execution_count": 12,
   "id": "9b699be4",
   "metadata": {},
   "outputs": [
    {
     "data": {
      "text/plain": [
       "[(2, 'John', 21, 56), (4, 'Jim', 21, 56)]"
      ]
     },
     "execution_count": 12,
     "metadata": {},
     "output_type": "execute_result"
    }
   ],
   "source": [
    "results = cur.execute('select * from student where courseid=(select courseid from course where coursename=\"Python course\")')\n",
    "\n",
    "results.fetchall()"
   ]
  },
  {
   "cell_type": "markdown",
   "id": "22b75d9b",
   "metadata": {},
   "source": [
    "# Join"
   ]
  },
  {
   "cell_type": "markdown",
   "id": "b7c9f64b",
   "metadata": {},
   "source": [
    "# Inner Join"
   ]
  },
  {
   "cell_type": "code",
   "execution_count": 13,
   "id": "225b3530",
   "metadata": {},
   "outputs": [
    {
     "data": {
      "text/plain": [
       "[(1, 'Jack', 78, 'Data science'),\n",
       " (1, 'Jack', 56, 'Python course'),\n",
       " (1, 'Jack', 101, 'Database'),\n",
       " (2, 'John', 78, 'Data science'),\n",
       " (2, 'John', 56, 'Python course'),\n",
       " (2, 'John', 101, 'Database'),\n",
       " (3, 'Rudolf', 78, 'Data science'),\n",
       " (3, 'Rudolf', 56, 'Python course'),\n",
       " (3, 'Rudolf', 101, 'Database'),\n",
       " (4, 'Jim', 78, 'Data science'),\n",
       " (4, 'Jim', 56, 'Python course'),\n",
       " (4, 'Jim', 101, 'Database')]"
      ]
     },
     "execution_count": 13,
     "metadata": {},
     "output_type": "execute_result"
    }
   ],
   "source": [
    "sql = \"SELECT student.roll_no, student.studentname, course.courseid, course.coursename FROM student INNER JOIN course ON student.courseid = student.courseid\"\n",
    "\n",
    "results = cur.execute(sql) \n",
    "results.fetchall()"
   ]
  },
  {
   "cell_type": "markdown",
   "id": "d98fee7e",
   "metadata": {},
   "source": [
    "# LEFT Join"
   ]
  },
  {
   "cell_type": "code",
   "execution_count": 14,
   "id": "69af888b",
   "metadata": {},
   "outputs": [
    {
     "data": {
      "text/plain": [
       "[(1, 'Jack', 78, 'Data science'),\n",
       " (1, 'Jack', 56, 'Python course'),\n",
       " (1, 'Jack', 101, 'Database'),\n",
       " (2, 'John', 78, 'Data science'),\n",
       " (2, 'John', 56, 'Python course'),\n",
       " (2, 'John', 101, 'Database'),\n",
       " (3, 'Rudolf', 78, 'Data science'),\n",
       " (3, 'Rudolf', 56, 'Python course'),\n",
       " (3, 'Rudolf', 101, 'Database'),\n",
       " (4, 'Jim', 78, 'Data science'),\n",
       " (4, 'Jim', 56, 'Python course'),\n",
       " (4, 'Jim', 101, 'Database')]"
      ]
     },
     "execution_count": 14,
     "metadata": {},
     "output_type": "execute_result"
    }
   ],
   "source": [
    "sql = \"SELECT student.roll_no, student.studentname, course.courseid, course.coursename FROM student LEFT JOIn course ON student.courseid = student.courseid\"\n",
    "results = cur.execute(sql)\n",
    "results.fetchall()\n",
    "    "
   ]
  },
  {
   "cell_type": "code",
   "execution_count": 15,
   "id": "458467c0",
   "metadata": {},
   "outputs": [
    {
     "data": {
      "text/plain": [
       "[(1, 'Jack', 78, 'Data science'),\n",
       " (2, 'John', 78, 'Data science'),\n",
       " (3, 'Rudolf', 78, 'Data science'),\n",
       " (4, 'Jim', 78, 'Data science'),\n",
       " (1, 'Jack', 56, 'Python course'),\n",
       " (2, 'John', 56, 'Python course'),\n",
       " (3, 'Rudolf', 56, 'Python course'),\n",
       " (4, 'Jim', 56, 'Python course'),\n",
       " (1, 'Jack', 101, 'Database'),\n",
       " (2, 'John', 101, 'Database'),\n",
       " (3, 'Rudolf', 101, 'Database'),\n",
       " (4, 'Jim', 101, 'Database')]"
      ]
     },
     "execution_count": 15,
     "metadata": {},
     "output_type": "execute_result"
    }
   ],
   "source": [
    "sql = \"SELECT student.roll_no, student.studentname, course.courseid, course.coursename FROM course LEFT JOIN student on student.courseid = student.courseid\"\n",
    "results = cur.execute(sql)\n",
    "results.fetchall()"
   ]
  },
  {
   "cell_type": "markdown",
   "id": "51bc4240",
   "metadata": {},
   "source": [
    "# Right Join And Full Outer Join not supported in SQLite"
   ]
  },
  {
   "cell_type": "code",
   "execution_count": 16,
   "id": "a76d835d",
   "metadata": {},
   "outputs": [],
   "source": [
    "import sqlite3"
   ]
  },
  {
   "cell_type": "raw",
   "id": "c2b9f66a",
   "metadata": {},
   "source": [
    "Adding date in table"
   ]
  },
  {
   "cell_type": "code",
   "execution_count": 17,
   "id": "f2e2c91b",
   "metadata": {},
   "outputs": [],
   "source": [
    "db=sqlite3.connect(\"E:/MySQLite_Database/sports_database.db\")"
   ]
  },
  {
   "cell_type": "code",
   "execution_count": 18,
   "id": "7bfc1261",
   "metadata": {},
   "outputs": [],
   "source": [
    "cur=db.cursor()"
   ]
  },
  {
   "cell_type": "raw",
   "id": "30fc2497",
   "metadata": {},
   "source": [
    "constraints------\n",
    "unique--enter only unique value, no duplicate values\n",
    "not null--no blank values can be inserted in table"
   ]
  },
  {
   "cell_type": "code",
   "execution_count": 19,
   "id": "9fe5f7d0",
   "metadata": {},
   "outputs": [
    {
     "ename": "OperationalError",
     "evalue": "table sport already exists",
     "output_type": "error",
     "traceback": [
      "\u001b[1;31m---------------------------------------------------------------------------\u001b[0m",
      "\u001b[1;31mOperationalError\u001b[0m                          Traceback (most recent call last)",
      "\u001b[1;32mC:\\Users\\THISPC~1\\AppData\\Local\\Temp/ipykernel_12152/3171016017.py\u001b[0m in \u001b[0;36m<module>\u001b[1;34m\u001b[0m\n\u001b[1;32m----> 1\u001b[1;33m \u001b[0mcur\u001b[0m\u001b[1;33m.\u001b[0m\u001b[0mexecute\u001b[0m\u001b[1;33m(\u001b[0m\u001b[1;34m\"create table sport (id int primary key, sportname text unique, dateofevent date, country text not null)\"\u001b[0m\u001b[1;33m)\u001b[0m\u001b[1;33m\u001b[0m\u001b[1;33m\u001b[0m\u001b[0m\n\u001b[0m",
      "\u001b[1;31mOperationalError\u001b[0m: table sport already exists"
     ]
    }
   ],
   "source": [
    "cur.execute(\"create table sport (id int primary key, sportname text unique, dateofevent date, country text not null)\")"
   ]
  },
  {
   "cell_type": "code",
   "execution_count": 20,
   "id": "59e6fb54",
   "metadata": {},
   "outputs": [
    {
     "data": {
      "text/plain": [
       "<sqlite3.Cursor at 0x2986a38b3b0>"
      ]
     },
     "execution_count": 20,
     "metadata": {},
     "output_type": "execute_result"
    }
   ],
   "source": [
    "cur.execute(\"insert into sport values(1, 'cricket', '2021-11-19', 'England')\")"
   ]
  },
  {
   "cell_type": "raw",
   "id": "8019df78",
   "metadata": {},
   "source": [
    "#this line will throw error as sportname is duplicate --- unique constraint failed\n",
    "\n",
    "#cur.execute(\"insert into sport values(2, 'cricket', '20118-08-02', 'Srilanka')\")"
   ]
  },
  {
   "cell_type": "code",
   "execution_count": 22,
   "id": "cd5ca513",
   "metadata": {},
   "outputs": [
    {
     "name": "stdout",
     "output_type": "stream",
     "text": [
      "1 record(s) inserted\n"
     ]
    }
   ],
   "source": [
    "cur.execute(\"insert into sport values(2, 'tennis', '2018-08-02', 'Srilanka')\")\n",
    "print(cur.rowcount, \"record(s) inserted\")"
   ]
  },
  {
   "cell_type": "code",
   "execution_count": 23,
   "id": "4ede3a6f",
   "metadata": {},
   "outputs": [
    {
     "data": {
      "text/plain": [
       "[(1, 'cricket', '2021-11-19', 'England'),\n",
       " (2, 'tennis', '2018-08-02', 'Srilanka')]"
      ]
     },
     "execution_count": 23,
     "metadata": {},
     "output_type": "execute_result"
    }
   ],
   "source": [
    "results = cur.execute('select * from sport')\n",
    "results.fetchall()"
   ]
  },
  {
   "cell_type": "markdown",
   "id": "0962619f",
   "metadata": {},
   "source": [
    "# Employee database with DB and Python programmatically"
   ]
  },
  {
   "cell_type": "code",
   "execution_count": 1,
   "id": "beae5f81",
   "metadata": {},
   "outputs": [],
   "source": [
    "import sqlite3"
   ]
  },
  {
   "cell_type": "code",
   "execution_count": 2,
   "id": "12a7b3b8",
   "metadata": {},
   "outputs": [],
   "source": [
    "con=sqlite3.connect(\"E:/MySQLite_Database/emp_database.db\")"
   ]
  },
  {
   "cell_type": "code",
   "execution_count": 3,
   "id": "e4e5a94e",
   "metadata": {},
   "outputs": [],
   "source": [
    "def sql_table(con):\n",
    "    cur=con.cursor()\n",
    "    cur.execute(\"create table employee (id integer primary key, name text, salary real, department text, position text, hiredate date)\")\n",
    "    con.commit()"
   ]
  },
  {
   "cell_type": "code",
   "execution_count": 4,
   "id": "fb478aec",
   "metadata": {},
   "outputs": [],
   "source": [
    "#calling function\n",
    "sql_table(con)"
   ]
  },
  {
   "cell_type": "code",
   "execution_count": 5,
   "id": "ac183fbf",
   "metadata": {},
   "outputs": [
    {
     "data": {
      "text/plain": [
       "<sqlite3.Cursor at 0x2e9cc8ebab0>"
      ]
     },
     "execution_count": 5,
     "metadata": {},
     "output_type": "execute_result"
    }
   ],
   "source": [
    "cur=con.cursor()\n",
    "cur.execute(\"insert into employee values(1, 'Jack', 9000, 'HR', 'Manager', '2019-07-09')\")"
   ]
  },
  {
   "cell_type": "code",
   "execution_count": 6,
   "id": "e020b97c",
   "metadata": {},
   "outputs": [],
   "source": [
    "con.commit;"
   ]
  },
  {
   "cell_type": "code",
   "execution_count": 7,
   "id": "8c7daf2d",
   "metadata": {},
   "outputs": [
    {
     "data": {
      "text/plain": [
       "[(1, 'Jack', 9000.0, 'HR', 'Manager', '2019-07-09')]"
      ]
     },
     "execution_count": 7,
     "metadata": {},
     "output_type": "execute_result"
    }
   ],
   "source": [
    "results = cur.execute(\"select * from employee\")\n",
    "results.fetchall()"
   ]
  },
  {
   "cell_type": "raw",
   "id": "5d072ece",
   "metadata": {},
   "source": [
    "We can also pass values/ arguements to an INSERT statement in the execute( method. You can use the question mark(?) as a placeholder for each value. The syntax of the INSERT will be like the following."
   ]
  },
  {
   "cell_type": "raw",
   "id": "00fc9f06",
   "metadata": {},
   "source": [
    "cur.execute('''insert into employee(id,name,salary,department,position,hiredate) values(?,?,?,?,?,?)''',entities)\n",
    "entities=(2,'John',4000,'IT','Engineer','2015-04-06')"
   ]
  },
  {
   "cell_type": "code",
   "execution_count": 8,
   "id": "58a74ae1",
   "metadata": {},
   "outputs": [],
   "source": [
    "def sql_insert(con, entities):\n",
    "    cur=con.cursor()\n",
    "    cur.execute('insert into employee(id,name,salary,department,position,hiredate) values(?,?,?,?,?,?)',entities)"
   ]
  },
  {
   "cell_type": "code",
   "execution_count": 9,
   "id": "7a45b28d",
   "metadata": {},
   "outputs": [],
   "source": [
    "entities=(2, 'Andrew', 7000, 'IT', 'Engineer', '2015-04-06')"
   ]
  },
  {
   "cell_type": "code",
   "execution_count": 10,
   "id": "dc6373e1",
   "metadata": {},
   "outputs": [],
   "source": [
    "#calling sql insert to insert the data\n",
    "\n",
    "sql_insert(con, entities)"
   ]
  },
  {
   "cell_type": "code",
   "execution_count": 11,
   "id": "64fbaf0b",
   "metadata": {},
   "outputs": [],
   "source": [
    "entities=(3, 'Thomas', 6000, 'HR', 'Manager', '2016-06-14')"
   ]
  },
  {
   "cell_type": "code",
   "execution_count": 12,
   "id": "e09b6965",
   "metadata": {},
   "outputs": [],
   "source": [
    "sql_insert(con,entities)"
   ]
  },
  {
   "cell_type": "code",
   "execution_count": 13,
   "id": "55c9a836",
   "metadata": {},
   "outputs": [
    {
     "data": {
      "text/plain": [
       "[(1, 'Jack', 9000.0, 'HR', 'Manager', '2019-07-09'),\n",
       " (2, 'Andrew', 7000.0, 'IT', 'Engineer', '2015-04-06'),\n",
       " (3, 'Thomas', 6000.0, 'HR', 'Manager', '2016-06-14')]"
      ]
     },
     "execution_count": 13,
     "metadata": {},
     "output_type": "execute_result"
    }
   ],
   "source": [
    "results=cur.execute(\"select * from employee\")\n",
    "results.fetchall()"
   ]
  },
  {
   "cell_type": "code",
   "execution_count": 14,
   "id": "08a924c6",
   "metadata": {},
   "outputs": [],
   "source": [
    "entities=(4, 'Rudolf', 8000, 'IT', 'Engineer', '2012-08-23') \n",
    "\n",
    "sql_insert(con,entities)\n",
    "\n",
    "entities=(5, 'Suzen', 10000, 'Sales', 'Sales Executive', '2018-02-19')\n",
    "\n",
    "sql_insert(con,entities)"
   ]
  },
  {
   "cell_type": "code",
   "execution_count": 15,
   "id": "d215abb2",
   "metadata": {},
   "outputs": [
    {
     "data": {
      "text/plain": [
       "[(1, 'Jack', 9000.0, 'HR', 'Manager', '2019-07-09'),\n",
       " (2, 'Andrew', 7000.0, 'IT', 'Engineer', '2015-04-06'),\n",
       " (3, 'Thomas', 6000.0, 'HR', 'Manager', '2016-06-14'),\n",
       " (4, 'Rudolf', 8000.0, 'IT', 'Engineer', '2012-08-23'),\n",
       " (5, 'Suzen', 10000.0, 'Sales', 'Sales Executive', '2018-02-19')]"
      ]
     },
     "execution_count": 15,
     "metadata": {},
     "output_type": "execute_result"
    }
   ],
   "source": [
    "results=cur.execute(\"select * from employee\")\n",
    "results.fetchall()"
   ]
  },
  {
   "cell_type": "code",
   "execution_count": 16,
   "id": "708c1b22",
   "metadata": {},
   "outputs": [],
   "source": [
    "def sql_update(con):\n",
    "    cur=con.cursor()\n",
    "    cur.execute('update employee set name=\"Martin\" where id=1')\n",
    "    con.commit()               "
   ]
  },
  {
   "cell_type": "code",
   "execution_count": 17,
   "id": "1168cf69",
   "metadata": {},
   "outputs": [],
   "source": [
    "sql_update(con)"
   ]
  },
  {
   "cell_type": "code",
   "execution_count": 18,
   "id": "2eef5576",
   "metadata": {},
   "outputs": [
    {
     "data": {
      "text/plain": [
       "[(1, 'Martin', 9000.0, 'HR', 'Manager', '2019-07-09'),\n",
       " (2, 'Andrew', 7000.0, 'IT', 'Engineer', '2015-04-06'),\n",
       " (3, 'Thomas', 6000.0, 'HR', 'Manager', '2016-06-14'),\n",
       " (4, 'Rudolf', 8000.0, 'IT', 'Engineer', '2012-08-23'),\n",
       " (5, 'Suzen', 10000.0, 'Sales', 'Sales Executive', '2018-02-19')]"
      ]
     },
     "execution_count": 18,
     "metadata": {},
     "output_type": "execute_result"
    }
   ],
   "source": [
    "results=cur.execute(\"select * from employee\")\n",
    "results.fetchall()"
   ]
  },
  {
   "cell_type": "code",
   "execution_count": 19,
   "id": "c3c1bd0f",
   "metadata": {},
   "outputs": [
    {
     "data": {
      "text/plain": [
       "[(1, 'Martin'), (2, 'Andrew'), (3, 'Thomas'), (4, 'Rudolf'), (5, 'Suzen')]"
      ]
     },
     "execution_count": 19,
     "metadata": {},
     "output_type": "execute_result"
    }
   ],
   "source": [
    "results=cur.execute(\"select id,name from employee\")\n",
    "results.fetchall()"
   ]
  },
  {
   "cell_type": "code",
   "execution_count": 20,
   "id": "028f40cc",
   "metadata": {},
   "outputs": [
    {
     "data": {
      "text/plain": [
       "[(1, 'Martin'), (5, 'Suzen')]"
      ]
     },
     "execution_count": 20,
     "metadata": {},
     "output_type": "execute_result"
    }
   ],
   "source": [
    "results=cur.execute(\"select id,name from employee where salary>8000\")\n",
    "results.fetchall()"
   ]
  },
  {
   "cell_type": "code",
   "execution_count": 21,
   "id": "14c929c9",
   "metadata": {},
   "outputs": [
    {
     "data": {
      "text/plain": [
       "[(6000.0,)]"
      ]
     },
     "execution_count": 21,
     "metadata": {},
     "output_type": "execute_result"
    }
   ],
   "source": [
    "results=cur.execute(\"select min(salary) from employee\")\n",
    "results.fetchall()"
   ]
  },
  {
   "cell_type": "code",
   "execution_count": 22,
   "id": "c502b8f9",
   "metadata": {},
   "outputs": [
    {
     "data": {
      "text/plain": [
       "(5,)"
      ]
     },
     "execution_count": 22,
     "metadata": {},
     "output_type": "execute_result"
    }
   ],
   "source": [
    "results=cur.execute(\"select count(id) from employee\")\n",
    "results.fetchone()"
   ]
  },
  {
   "cell_type": "code",
   "execution_count": 23,
   "id": "eed4c489",
   "metadata": {},
   "outputs": [
    {
     "data": {
      "text/plain": [
       "[('HR',), ('IT',), ('Sales',)]"
      ]
     },
     "execution_count": 23,
     "metadata": {},
     "output_type": "execute_result"
    }
   ],
   "source": [
    "results=cur.execute(\"select distinct(department) from employee\")\n",
    "results.fetchall()"
   ]
  },
  {
   "cell_type": "code",
   "execution_count": 24,
   "id": "07150ba2",
   "metadata": {},
   "outputs": [
    {
     "data": {
      "text/plain": [
       "(3,)"
      ]
     },
     "execution_count": 24,
     "metadata": {},
     "output_type": "execute_result"
    }
   ],
   "source": [
    "results=cur.execute(\"select count(distinct(department)) from employee\")\n",
    "results.fetchone()"
   ]
  },
  {
   "cell_type": "code",
   "execution_count": 25,
   "id": "df8285dc",
   "metadata": {},
   "outputs": [
    {
     "data": {
      "text/plain": [
       "[(15000.0, 'Engineer'), (15000.0, 'Manager'), (10000.0, 'Sales Executive')]"
      ]
     },
     "execution_count": 25,
     "metadata": {},
     "output_type": "execute_result"
    }
   ],
   "source": [
    "results=cur.execute(\"select sum(salary), position from employee group by position\")\n",
    "results.fetchall()"
   ]
  },
  {
   "cell_type": "code",
   "execution_count": 26,
   "id": "7676d899",
   "metadata": {},
   "outputs": [
    {
     "data": {
      "text/plain": [
       "[(15000.0, 'IT'), (15000.0, 'HR'), (10000.0, 'Sales')]"
      ]
     },
     "execution_count": 26,
     "metadata": {},
     "output_type": "execute_result"
    }
   ],
   "source": [
    "results=cur.execute(\"select sum(salary), department from employee group by position\")\n",
    "results.fetchall()"
   ]
  },
  {
   "cell_type": "code",
   "execution_count": 27,
   "id": "67313f49",
   "metadata": {},
   "outputs": [],
   "source": [
    "def sql_query(sql):\n",
    "     cur=con.cursor()\n",
    "     results=cur.execute(sql)\n",
    "     return results\n"
   ]
  },
  {
   "cell_type": "code",
   "execution_count": 28,
   "id": "ae67676b",
   "metadata": {},
   "outputs": [
    {
     "data": {
      "text/plain": [
       "[(1, 'Martin', 9000.0, 'HR', 'Manager', '2019-07-09'),\n",
       " (2, 'Andrew', 7000.0, 'IT', 'Engineer', '2015-04-06'),\n",
       " (3, 'Thomas', 6000.0, 'HR', 'Manager', '2016-06-14'),\n",
       " (4, 'Rudolf', 8000.0, 'IT', 'Engineer', '2012-08-23'),\n",
       " (5, 'Suzen', 10000.0, 'Sales', 'Sales Executive', '2018-02-19')]"
      ]
     },
     "execution_count": 28,
     "metadata": {},
     "output_type": "execute_result"
    }
   ],
   "source": [
    "#make query\n",
    "sql=\"select * from employee\"\n",
    "\n",
    "#pass query in function\n",
    "respond=sql_query(sql)\n",
    "respond.fetchall()"
   ]
  },
  {
   "cell_type": "code",
   "execution_count": 29,
   "id": "55e3d06b",
   "metadata": {},
   "outputs": [
    {
     "data": {
      "text/plain": [
       "[(1, 'Martin', 'Manager'),\n",
       " (2, 'Andrew', 'Engineer'),\n",
       " (3, 'Thomas', 'Manager'),\n",
       " (4, 'Rudolf', 'Engineer'),\n",
       " (5, 'Suzen', 'Sales Executive')]"
      ]
     },
     "execution_count": 29,
     "metadata": {},
     "output_type": "execute_result"
    }
   ],
   "source": [
    "sql=\"select id, name, position from employee\"\n",
    "\n",
    "#pass query in function\n",
    "respond=sql_query(sql)\n",
    "respond.fetchall()"
   ]
  },
  {
   "cell_type": "markdown",
   "id": "ad9e32d6",
   "metadata": {},
   "source": [
    "# SQLite3 Executemany (Bulk insert)"
   ]
  },
  {
   "cell_type": "raw",
   "id": "ef013994",
   "metadata": {},
   "source": [
    "We can use the executemany statement to insert multiple rows at once."
   ]
  },
  {
   "cell_type": "code",
   "execution_count": 30,
   "id": "9061f425",
   "metadata": {},
   "outputs": [],
   "source": [
    "entities=[(6, 'Joseph', 4000, 'Account', 'CA', '2016-15-05'),(7, 'Maria', 10000, 'Sales','Sales Executive', '2018-05-25' )]"
   ]
  },
  {
   "cell_type": "code",
   "execution_count": 31,
   "id": "86c47987",
   "metadata": {},
   "outputs": [
    {
     "data": {
      "text/plain": [
       "<sqlite3.Cursor at 0x2e9cc8ebab0>"
      ]
     },
     "execution_count": 31,
     "metadata": {},
     "output_type": "execute_result"
    }
   ],
   "source": [
    "cur.executemany('insert into employee(id,name,salary,department,position,hiredate)values(?,?,?,?,?,?)',entities)"
   ]
  },
  {
   "cell_type": "code",
   "execution_count": 32,
   "id": "bae6f2b3",
   "metadata": {},
   "outputs": [
    {
     "name": "stdout",
     "output_type": "stream",
     "text": [
      "(1, 'Martin', 9000.0, 'HR', 'Manager', '2019-07-09')\n",
      "(2, 'Andrew', 7000.0, 'IT', 'Engineer', '2015-04-06')\n",
      "(3, 'Thomas', 6000.0, 'HR', 'Manager', '2016-06-14')\n",
      "(4, 'Rudolf', 8000.0, 'IT', 'Engineer', '2012-08-23')\n",
      "(5, 'Suzen', 10000.0, 'Sales', 'Sales Executive', '2018-02-19')\n",
      "(6, 'Joseph', 4000.0, 'Account', 'CA', '2016-15-05')\n",
      "(7, 'Maria', 10000.0, 'Sales', 'Sales Executive', '2018-05-25')\n"
     ]
    }
   ],
   "source": [
    "results=cur.execute(\"select * from employee\")\n",
    "\n",
    "for row in results:\n",
    "    print(row)"
   ]
  },
  {
   "cell_type": "code",
   "execution_count": 38,
   "id": "0d245d06",
   "metadata": {},
   "outputs": [],
   "source": []
  },
  {
   "cell_type": "code",
   "execution_count": null,
   "id": "4ccfa47b",
   "metadata": {},
   "outputs": [],
   "source": []
  }
 ],
 "metadata": {
  "kernelspec": {
   "display_name": "Python 3 (ipykernel)",
   "language": "python",
   "name": "python3"
  },
  "language_info": {
   "codemirror_mode": {
    "name": "ipython",
    "version": 3
   },
   "file_extension": ".py",
   "mimetype": "text/x-python",
   "name": "python",
   "nbconvert_exporter": "python",
   "pygments_lexer": "ipython3",
   "version": "3.9.7"
  }
 },
 "nbformat": 4,
 "nbformat_minor": 5
}
